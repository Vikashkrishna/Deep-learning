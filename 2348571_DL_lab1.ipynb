{
  "nbformat": 4,
  "nbformat_minor": 0,
  "metadata": {
    "colab": {
      "provenance": []
    },
    "kernelspec": {
      "name": "python3",
      "display_name": "Python 3"
    },
    "language_info": {
      "name": "python"
    }
  },
  "cells": [
    {
      "cell_type": "code",
      "source": [
        "import numpy as np\n",
        "\n",
        "class Perceptron:\n",
        "    def __init__(self, input_size, weights, bias):\n",
        "        self.weights = np.array(weights)\n",
        "        self.bias = bias\n",
        "        self.learning_rate = 0.1\n",
        "\n",
        "    def predict(self, inputs):\n",
        "        summation = np.dot(inputs, self.weights) + self.bias\n",
        "        return 1 if summation >= 0 else 0\n",
        "\n",
        "    def train(self, inputs, target):\n",
        "        prediction = self.predict(inputs)\n",
        "        error = target - prediction\n",
        "        self.weights += self.learning_rate * error * inputs\n",
        "        self.bias += self.learning_rate * error\n",
        "        return error\n",
        "\n",
        "def boolean_function_test(perceptron, boolean_function):\n",
        "    inputs = boolean_function[\"inputs\"]\n",
        "    targets = boolean_function[\"targets\"]\n",
        "\n",
        "    print(f\"\\nTraining for {boolean_function['name']} function:\")\n",
        "    print(\"Initial Weights:\", perceptron.weights)\n",
        "\n",
        "    for epoch in range(1000):  # Adjust the number of epochs as needed\n",
        "        total_errors = 0\n",
        "        for i in range(len(inputs)):\n",
        "            input_values = np.array(inputs[i])\n",
        "            target_value = targets[i]\n",
        "            error = perceptron.train(input_values, target_value)\n",
        "            total_errors += abs(error)\n",
        "\n",
        "        print(f\"Epoch {epoch + 1}, Total Errors: {total_errors}\")\n",
        "\n",
        "        if total_errors == 0:\n",
        "            print(f\"\\nConverged after {epoch + 1} epochs.\")\n",
        "            break\n",
        "\n",
        "    print(\"Final Weights:\", perceptron.weights)\n",
        "    print(\"Final Bias:\", perceptron.bias)\n",
        "\n",
        "# Define boolean functions\n",
        "and_function = {\n",
        "    \"name\": \"AND\",\n",
        "    \"inputs\": [[0, 0], [0, 1], [1, 0], [1, 1]],\n",
        "    \"targets\": [0, 0, 0, 1],\n",
        "    \"initial_weights\": [0.5, 0.5],  # Manually input initial weights\n",
        "    \"initial_bias\": -0.5  # Manually input initial bias\n",
        "}\n",
        "\n",
        "or_function = {\n",
        "    \"name\": \"OR\",\n",
        "    \"inputs\": [[0, 0], [0, 1], [1, 0], [1, 1]],\n",
        "    \"targets\": [0, 1, 1, 1],\n",
        "    \"initial_weights\": [0.5, 0.5],  # Manually input initial weights\n",
        "    \"initial_bias\": -0.5  # Manually input initial bias\n",
        "}\n",
        "\n",
        "nand_function = {\n",
        "    \"name\": \"NAND\",\n",
        "    \"inputs\": [[0, 0], [0, 1], [1, 0], [1, 1]],\n",
        "    \"targets\": [1, 1, 1, 0],\n",
        "    \"initial_weights\": [-0.5, -0.5],  # Manually input initial weights\n",
        "    \"initial_bias\": 0.5  # Manually input initial bias\n",
        "}\n",
        "\n",
        "# Initialize perceptron with manual weights\n",
        "perceptron_and = Perceptron(input_size=2, weights=and_function[\"initial_weights\"], bias=and_function[\"initial_bias\"])\n",
        "perceptron_or = Perceptron(input_size=2, weights=or_function[\"initial_weights\"], bias=or_function[\"initial_bias\"])\n",
        "perceptron_nand = Perceptron(input_size=2, weights=nand_function[\"initial_weights\"], bias=nand_function[\"initial_bias\"])\n",
        "\n",
        "# Test each boolean function\n",
        "boolean_function_test(perceptron_and, and_function)\n",
        "boolean_function_test(perceptron_or, or_function)\n",
        "boolean_function_test(perceptron_nand, nand_function)\n"
      ],
      "metadata": {
        "colab": {
          "base_uri": "https://localhost:8080/"
        },
        "id": "jgNh_1y8KNka",
        "outputId": "1b5819cc-94fa-46e4-c19a-bfb639f8a258"
      },
      "execution_count": 1,
      "outputs": [
        {
          "output_type": "stream",
          "name": "stdout",
          "text": [
            "\n",
            "Training for AND function:\n",
            "Initial Weights: [0.5 0.5]\n",
            "Epoch 1, Total Errors: 1\n",
            "Epoch 2, Total Errors: 0\n",
            "\n",
            "Converged after 2 epochs.\n",
            "Final Weights: [0.5 0.4]\n",
            "Final Bias: -0.6\n",
            "\n",
            "Training for OR function:\n",
            "Initial Weights: [0.5 0.5]\n",
            "Epoch 1, Total Errors: 0\n",
            "\n",
            "Converged after 1 epochs.\n",
            "Final Weights: [0.5 0.5]\n",
            "Final Bias: -0.5\n",
            "\n",
            "Training for NAND function:\n",
            "Initial Weights: [-0.5 -0.5]\n",
            "Epoch 1, Total Errors: 0\n",
            "\n",
            "Converged after 1 epochs.\n",
            "Final Weights: [-0.5 -0.5]\n",
            "Final Bias: 0.5\n"
          ]
        }
      ]
    },
    {
      "cell_type": "code",
      "source": [
        "import tensorflow as tf\n",
        "import numpy as np\n",
        "\n",
        "# Define XOR data\n",
        "inputs = np.array([[0, 0], [0, 1], [1, 0], [1, 1]], dtype=np.float32)\n",
        "targets = np.array([[0], [1], [1], [0]], dtype=np.float32)\n",
        "\n",
        "# Define the model with regularization and dropout\n",
        "model = tf.keras.Sequential([\n",
        "    tf.keras.layers.Input(shape=(2,)),\n",
        "    tf.keras.layers.Dense(units=4, activation='relu', kernel_regularizer=tf.keras.regularizers.l2(0.01)),\n",
        "    tf.keras.layers.Dropout(0.2),\n",
        "    tf.keras.layers.Dense(units=1, activation='sigmoid')\n",
        "])\n",
        "\n",
        "# Compile the model\n",
        "model.compile(optimizer='adam', loss='binary_crossentropy', metrics=['accuracy'])\n",
        "\n",
        "# Train the model with early stopping and validation split\n",
        "early_stopping = tf.keras.callbacks.EarlyStopping(monitor='val_loss', patience=50, restore_best_weights=True)\n",
        "\n",
        "history = model.fit(inputs, targets, epochs=10000, verbose=0, callbacks=[early_stopping], validation_split=0.2)\n",
        "\n",
        "# Evaluate the model\n",
        "loss, accuracy = model.evaluate(inputs, targets)\n",
        "print(f\"\\nModel Accuracy: {accuracy * 100:.2f}%\")\n",
        "\n",
        "# Predict XOR outputs\n",
        "predictions = model.predict(inputs)\n",
        "rounded_predictions = np.round(predictions)\n",
        "print(\"\\nPredictions:\")\n",
        "print(rounded_predictions)\n"
      ],
      "metadata": {
        "colab": {
          "base_uri": "https://localhost:8080/"
        },
        "id": "-clBCVU_KNtX",
        "outputId": "fe687a32-bd91-4ba8-9ed4-107a2c1058bf"
      },
      "execution_count": 2,
      "outputs": [
        {
          "output_type": "stream",
          "name": "stdout",
          "text": [
            "1/1 [==============================] - 0s 27ms/step - loss: 0.7063 - accuracy: 0.2500\n",
            "\n",
            "Model Accuracy: 25.00%\n",
            "1/1 [==============================] - 0s 84ms/step\n",
            "\n",
            "Predictions:\n",
            "[[1.]\n",
            " [1.]\n",
            " [0.]\n",
            " [1.]]\n"
          ]
        }
      ]
    },
    {
      "cell_type": "code",
      "source": [
        "import numpy as np\n",
        "import matplotlib.pyplot as plt\n",
        "\n",
        "# Define the equation to minimize\n",
        "def equation(x):\n",
        "    return x**2 + 5*np.sin(x)\n",
        "\n",
        "# Define the derivative of the equation (gradient)\n",
        "def gradient(x):\n",
        "    return 2*x + 5*np.cos(x)\n",
        "\n",
        "# Gradient Descent Algorithm\n",
        "def gradient_descent(initial_guess, learning_rate, tolerance):\n",
        "    x = initial_guess\n",
        "    iterations = 0\n",
        "\n",
        "    while True:\n",
        "        x_new = x - learning_rate * gradient(x)\n",
        "        if abs(x_new - x) < tolerance:\n",
        "            break\n",
        "        x = x_new\n",
        "        iterations += 1\n",
        "\n",
        "    return x, iterations\n",
        "\n",
        "# Visualization\n",
        "def plot_results(x_vals, y_vals, minima_x, minima_y):\n",
        "    plt.plot(x_vals, y_vals, label='Function')\n",
        "    plt.scatter(minima_x, minima_y, color='red', label='Global Minima')\n",
        "    plt.title('Gradient Descent Optimization')\n",
        "    plt.xlabel('x')\n",
        "    plt.ylabel('f(x)')\n",
        "    plt.legend()\n",
        "    plt.show()\n",
        "\n",
        "# Parameters\n",
        "initial_guess = 0.0\n",
        "learning_rate = 0.1\n",
        "tolerance = 1e-6\n",
        "\n",
        "# Run gradient descent\n",
        "minima_x, iterations = gradient_descent(initial_guess, learning_rate, tolerance)\n",
        "minima_y = equation(minima_x)\n",
        "\n",
        "# Generate data for visualization\n",
        "x_vals = np.linspace(-5, 5, 100)\n",
        "y_vals = equation(x_vals)\n",
        "\n",
        "# Print results\n",
        "print(f\"Global Minima found at x = {minima_x}, f(x) = {minima_y}\")\n",
        "print(f\"Number of iterations: {iterations}\")\n",
        "\n",
        "# Plot the results\n",
        "plot_results(x_vals, y_vals, minima_x, minima_y)\n"
      ],
      "metadata": {
        "colab": {
          "base_uri": "https://localhost:8080/",
          "height": 507
        },
        "id": "L1FHg-erLKyB",
        "outputId": "76076e4f-1efd-45db-cb69-4de3c6fbedcb"
      },
      "execution_count": 3,
      "outputs": [
        {
          "output_type": "stream",
          "name": "stdout",
          "text": [
            "Global Minima found at x = -1.1105093598463913, f(x) = -3.2463942726873016\n",
            "Number of iterations: 14\n"
          ]
        },
        {
          "output_type": "display_data",
          "data": {
            "text/plain": [
              "<Figure size 640x480 with 1 Axes>"
            ],
            "image/png": "[encoded data removed]"
          },
          "metadata": {}
        }
      ]
    },
    {
      "cell_type": "code",
      "source": [],
      "metadata": {
        "id": "_dYtxbovLjvR"
      },
      "execution_count": null,
      "outputs": []
    }
  ]
}